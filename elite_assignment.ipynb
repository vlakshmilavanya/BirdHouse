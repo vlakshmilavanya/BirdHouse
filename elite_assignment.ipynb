{
  "nbformat": 4,
  "nbformat_minor": 0,
  "metadata": {
    "colab": {
      "name": "elite assignment",
      "provenance": [],
      "collapsed_sections": [],
      "include_colab_link": true
    },
    "kernelspec": {
      "name": "python3",
      "display_name": "Python 3"
    }
  },
  "cells": [
    {
      "cell_type": "markdown",
      "metadata": {
        "id": "view-in-github",
        "colab_type": "text"
      },
      "source": [
        "<a href=\"https://colab.research.google.com/github/vlakshmilavanya/BirdHouse/blob/master/elite_assignment.ipynb\" target=\"_parent\"><img src=\"https://colab.research.google.com/assets/colab-badge.svg\" alt=\"Open In Colab\"/></a>"
      ]
    },
    {
      "cell_type": "code",
      "metadata": {
        "id": "MDr5bj-zt_jl",
        "colab_type": "code",
        "colab": {}
      },
      "source": [
        "def reverseVowels(s):        \n",
        "\t\tvowels = []\n",
        "\t\treverseword = \"\"\n",
        "\t\tfor i in s:\n",
        "\t\t\tif i in \"aeiouAEIOU\":                \n",
        "\t\t\t\tvowels.append(i)\n",
        "\t\tfor i in s:\n",
        "\t\t\tif i in \"aeiouAEIOU\":\n",
        "\t\t\t\treverseword += vowels.pop()\n",
        "\t\t\telse:\n",
        "\t\t\t\treverseword += i\n",
        "\t\treturn reverseword"
      ],
      "execution_count": 0,
      "outputs": []
    },
    {
      "cell_type": "code",
      "metadata": {
        "id": "Rbbbht9MuK5n",
        "colab_type": "code",
        "outputId": "968db5bd-4dd1-4691-ec3e-9009c663ff03",
        "colab": {
          "base_uri": "https://localhost:8080/",
          "height": 34
        }
      },
      "source": [
        "reverseVowels(\"hello\")"
      ],
      "execution_count": 0,
      "outputs": [
        {
          "output_type": "execute_result",
          "data": {
            "text/plain": [
              "'holle'"
            ]
          },
          "metadata": {
            "tags": []
          },
          "execution_count": 9
        }
      ]
    },
    {
      "cell_type": "code",
      "metadata": {
        "id": "Nqf1XxVKxc4X",
        "colab_type": "code",
        "colab": {}
      },
      "source": [
        "import sympy"
      ],
      "execution_count": 0,
      "outputs": []
    },
    {
      "cell_type": "code",
      "metadata": {
        "id": "9iJ_WlexwP0Y",
        "colab_type": "code",
        "colab": {}
      },
      "source": [
        "\n",
        "def is_pandigital(num):\n",
        "    number_digits = {i for i in range(1, len(str(num))+1)}\n",
        "    for i in number_digits:\n",
        "        if str(i) not in str(num):\n",
        "            return False\n",
        "    return True\n",
        "def pandigital_primes():\n",
        "    check_number = 2143\n",
        "    while True:\n",
        "        if is_pandigital(check_number) and sympy.isprime(check_number):\n",
        "            print(check_number)\n",
        "        check_number += 1\n",
        "        "
      ],
      "execution_count": 0,
      "outputs": []
    },
    {
      "cell_type": "code",
      "metadata": {
        "id": "KKQb-iy5yLHK",
        "colab_type": "code",
        "colab": {}
      },
      "source": [
        "pandigital_primes()"
      ],
      "execution_count": 0,
      "outputs": []
    },
    {
      "cell_type": "code",
      "metadata": {
        "id": "bUXslpMX1QUx",
        "colab_type": "code",
        "colab": {}
      },
      "source": [
        "def weird_Dictionary():\n",
        "  length = int(input())\n",
        "  word = input()\n",
        "  word = list(word)\n",
        "  return sum([(ord(word[i]) - 97) * (26 ** (length-i-1)) for i in range(length)])"
      ],
      "execution_count": 0,
      "outputs": []
    },
    {
      "cell_type": "code",
      "metadata": {
        "id": "hK5_2dO-jtio",
        "colab_type": "code",
        "colab": {
          "base_uri": "https://localhost:8080/",
          "height": 68
        },
        "outputId": "d1e97d29-95c1-45b1-9b90-efdb1d52822e"
      },
      "source": [
        "weird_Dictionary()"
      ],
      "execution_count": 4,
      "outputs": [
        {
          "output_type": "stream",
          "text": [
            "7\n",
            "rghsder\n"
          ],
          "name": "stdout"
        },
        {
          "output_type": "execute_result",
          "data": {
            "text/plain": [
              "5326373797"
            ]
          },
          "metadata": {
            "tags": []
          },
          "execution_count": 4
        }
      ]
    },
    {
      "cell_type": "code",
      "metadata": {
        "id": "rY_FsfDYmhRz",
        "colab_type": "code",
        "colab": {
          "base_uri": "https://localhost:8080/",
          "height": 102
        },
        "outputId": "bc65fb45-4ad7-43db-ab24-dc72891d0695"
      },
      "source": [
        "from itertools import product\n",
        "\n",
        "K,M = map(int,input().split())\n",
        "N = (list(map(int, input().split()))[1:] for _ in range(K))\n",
        "results = map(lambda x: sum(i**2 for i in x)%M, product(*N))\n",
        "print(max(results))"
      ],
      "execution_count": 7,
      "outputs": [
        {
          "output_type": "stream",
          "text": [
            "3 1000\n",
            "2 4 5\n",
            "3 6 8 9\n",
            "4 6 8 9 10\n",
            "206\n"
          ],
          "name": "stdout"
        }
      ]
    }
  ]
}